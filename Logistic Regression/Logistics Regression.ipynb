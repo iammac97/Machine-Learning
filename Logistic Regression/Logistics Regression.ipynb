{
 "cells": [
  {
   "cell_type": "markdown",
   "id": "c2d00d18",
   "metadata": {},
   "source": [
    "# Binary Classification"
   ]
  },
  {
   "cell_type": "code",
   "execution_count": 1,
   "id": "2344f04f",
   "metadata": {},
   "outputs": [],
   "source": [
    "import pandas as pd\n",
    "import numpy as np\n",
    "from matplotlib import pyplot as plt\n",
    "%matplotlib inline"
   ]
  },
  {
   "cell_type": "code",
   "execution_count": 2,
   "id": "acf3f913",
   "metadata": {},
   "outputs": [
    {
     "data": {
      "text/html": [
       "<div>\n",
       "<style scoped>\n",
       "    .dataframe tbody tr th:only-of-type {\n",
       "        vertical-align: middle;\n",
       "    }\n",
       "\n",
       "    .dataframe tbody tr th {\n",
       "        vertical-align: top;\n",
       "    }\n",
       "\n",
       "    .dataframe thead th {\n",
       "        text-align: right;\n",
       "    }\n",
       "</style>\n",
       "<table border=\"1\" class=\"dataframe\">\n",
       "  <thead>\n",
       "    <tr style=\"text-align: right;\">\n",
       "      <th></th>\n",
       "      <th>age</th>\n",
       "      <th>have_insurance</th>\n",
       "    </tr>\n",
       "  </thead>\n",
       "  <tbody>\n",
       "    <tr>\n",
       "      <th>0</th>\n",
       "      <td>22</td>\n",
       "      <td>0</td>\n",
       "    </tr>\n",
       "    <tr>\n",
       "      <th>1</th>\n",
       "      <td>25</td>\n",
       "      <td>0</td>\n",
       "    </tr>\n",
       "    <tr>\n",
       "      <th>2</th>\n",
       "      <td>47</td>\n",
       "      <td>1</td>\n",
       "    </tr>\n",
       "    <tr>\n",
       "      <th>3</th>\n",
       "      <td>52</td>\n",
       "      <td>0</td>\n",
       "    </tr>\n",
       "    <tr>\n",
       "      <th>4</th>\n",
       "      <td>46</td>\n",
       "      <td>1</td>\n",
       "    </tr>\n",
       "  </tbody>\n",
       "</table>\n",
       "</div>"
      ],
      "text/plain": [
       "   age  have_insurance\n",
       "0   22               0\n",
       "1   25               0\n",
       "2   47               1\n",
       "3   52               0\n",
       "4   46               1"
      ]
     },
     "execution_count": 2,
     "metadata": {},
     "output_type": "execute_result"
    }
   ],
   "source": [
    "df=pd.read_csv(\"insurance.csv\")\n",
    "df.head()"
   ]
  },
  {
   "cell_type": "code",
   "execution_count": 3,
   "id": "9b97ccc4",
   "metadata": {
    "scrolled": true
   },
   "outputs": [
    {
     "data": {
      "text/plain": [
       "<matplotlib.collections.PathCollection at 0x2b89670f8b0>"
      ]
     },
     "execution_count": 3,
     "metadata": {},
     "output_type": "execute_result"
    },
    {
     "data": {
      "image/png": "[encoded data removed]",
      "text/plain": [
       "<Figure size 432x288 with 1 Axes>"
      ]
     },
     "metadata": {
      "needs_background": "light"
     },
     "output_type": "display_data"
    }
   ],
   "source": [
    "plt.scatter(df.age,df.have_insurance,marker=\"+\",color=\"indigo\")"
   ]
  },
  {
   "cell_type": "code",
   "execution_count": 4,
   "id": "f759060a",
   "metadata": {},
   "outputs": [],
   "source": [
    "#split the dataframe into trainning set and testset (90:10) using train_test_split method\n",
    "from sklearn.model_selection import train_test_split\n",
    "x_train, x_test, y_train, y_test=train_test_split(df[['age']],df.have_insurance,train_size=0.9)"
   ]
  },
  {
   "cell_type": "code",
   "execution_count": 5,
   "id": "7ec143f3",
   "metadata": {},
   "outputs": [
    {
     "data": {
      "text/html": [
       "<div>\n",
       "<style scoped>\n",
       "    .dataframe tbody tr th:only-of-type {\n",
       "        vertical-align: middle;\n",
       "    }\n",
       "\n",
       "    .dataframe tbody tr th {\n",
       "        vertical-align: top;\n",
       "    }\n",
       "\n",
       "    .dataframe thead th {\n",
       "        text-align: right;\n",
       "    }\n",
       "</style>\n",
       "<table border=\"1\" class=\"dataframe\">\n",
       "  <thead>\n",
       "    <tr style=\"text-align: right;\">\n",
       "      <th></th>\n",
       "      <th>age</th>\n",
       "    </tr>\n",
       "  </thead>\n",
       "  <tbody>\n",
       "    <tr>\n",
       "      <th>8</th>\n",
       "      <td>62</td>\n",
       "    </tr>\n",
       "    <tr>\n",
       "      <th>2</th>\n",
       "      <td>47</td>\n",
       "    </tr>\n",
       "    <tr>\n",
       "      <th>20</th>\n",
       "      <td>21</td>\n",
       "    </tr>\n",
       "    <tr>\n",
       "      <th>17</th>\n",
       "      <td>58</td>\n",
       "    </tr>\n",
       "    <tr>\n",
       "      <th>16</th>\n",
       "      <td>25</td>\n",
       "    </tr>\n",
       "    <tr>\n",
       "      <th>9</th>\n",
       "      <td>61</td>\n",
       "    </tr>\n",
       "    <tr>\n",
       "      <th>25</th>\n",
       "      <td>54</td>\n",
       "    </tr>\n",
       "    <tr>\n",
       "      <th>18</th>\n",
       "      <td>19</td>\n",
       "    </tr>\n",
       "    <tr>\n",
       "      <th>24</th>\n",
       "      <td>50</td>\n",
       "    </tr>\n",
       "    <tr>\n",
       "      <th>7</th>\n",
       "      <td>60</td>\n",
       "    </tr>\n",
       "    <tr>\n",
       "      <th>23</th>\n",
       "      <td>45</td>\n",
       "    </tr>\n",
       "    <tr>\n",
       "      <th>22</th>\n",
       "      <td>40</td>\n",
       "    </tr>\n",
       "    <tr>\n",
       "      <th>21</th>\n",
       "      <td>26</td>\n",
       "    </tr>\n",
       "    <tr>\n",
       "      <th>1</th>\n",
       "      <td>25</td>\n",
       "    </tr>\n",
       "    <tr>\n",
       "      <th>6</th>\n",
       "      <td>55</td>\n",
       "    </tr>\n",
       "    <tr>\n",
       "      <th>14</th>\n",
       "      <td>49</td>\n",
       "    </tr>\n",
       "    <tr>\n",
       "      <th>26</th>\n",
       "      <td>23</td>\n",
       "    </tr>\n",
       "    <tr>\n",
       "      <th>11</th>\n",
       "      <td>28</td>\n",
       "    </tr>\n",
       "    <tr>\n",
       "      <th>12</th>\n",
       "      <td>27</td>\n",
       "    </tr>\n",
       "    <tr>\n",
       "      <th>3</th>\n",
       "      <td>52</td>\n",
       "    </tr>\n",
       "    <tr>\n",
       "      <th>10</th>\n",
       "      <td>18</td>\n",
       "    </tr>\n",
       "    <tr>\n",
       "      <th>4</th>\n",
       "      <td>46</td>\n",
       "    </tr>\n",
       "    <tr>\n",
       "      <th>19</th>\n",
       "      <td>18</td>\n",
       "    </tr>\n",
       "    <tr>\n",
       "      <th>13</th>\n",
       "      <td>29</td>\n",
       "    </tr>\n",
       "  </tbody>\n",
       "</table>\n",
       "</div>"
      ],
      "text/plain": [
       "    age\n",
       "8    62\n",
       "2    47\n",
       "20   21\n",
       "17   58\n",
       "16   25\n",
       "9    61\n",
       "25   54\n",
       "18   19\n",
       "24   50\n",
       "7    60\n",
       "23   45\n",
       "22   40\n",
       "21   26\n",
       "1    25\n",
       "6    55\n",
       "14   49\n",
       "26   23\n",
       "11   28\n",
       "12   27\n",
       "3    52\n",
       "10   18\n",
       "4    46\n",
       "19   18\n",
       "13   29"
      ]
     },
     "execution_count": 5,
     "metadata": {},
     "output_type": "execute_result"
    }
   ],
   "source": [
    "#to see the data of x_train that will be 90% random data of all data\n",
    "x_train"
   ]
  },
  {
   "cell_type": "code",
   "execution_count": 6,
   "id": "962777fc",
   "metadata": {},
   "outputs": [
    {
     "data": {
      "text/html": [
       "<div>\n",
       "<style scoped>\n",
       "    .dataframe tbody tr th:only-of-type {\n",
       "        vertical-align: middle;\n",
       "    }\n",
       "\n",
       "    .dataframe tbody tr th {\n",
       "        vertical-align: top;\n",
       "    }\n",
       "\n",
       "    .dataframe thead th {\n",
       "        text-align: right;\n",
       "    }\n",
       "</style>\n",
       "<table border=\"1\" class=\"dataframe\">\n",
       "  <thead>\n",
       "    <tr style=\"text-align: right;\">\n",
       "      <th></th>\n",
       "      <th>age</th>\n",
       "    </tr>\n",
       "  </thead>\n",
       "  <tbody>\n",
       "    <tr>\n",
       "      <th>5</th>\n",
       "      <td>56</td>\n",
       "    </tr>\n",
       "    <tr>\n",
       "      <th>15</th>\n",
       "      <td>55</td>\n",
       "    </tr>\n",
       "    <tr>\n",
       "      <th>0</th>\n",
       "      <td>22</td>\n",
       "    </tr>\n",
       "  </tbody>\n",
       "</table>\n",
       "</div>"
      ],
      "text/plain": [
       "    age\n",
       "5    56\n",
       "15   55\n",
       "0    22"
      ]
     },
     "execution_count": 6,
     "metadata": {},
     "output_type": "execute_result"
    }
   ],
   "source": [
    "#to see the data of x_test\n",
    "x_test"
   ]
  },
  {
   "cell_type": "code",
   "execution_count": 7,
   "id": "b1dfb55c",
   "metadata": {},
   "outputs": [],
   "source": [
    "#import the LR model from sklearn.linear_model and create the object of logistic regression class\n",
    "from sklearn.linear_model import LogisticRegression\n",
    "model=LogisticRegression()"
   ]
  },
  {
   "cell_type": "code",
   "execution_count": 8,
   "id": "1d11527e",
   "metadata": {},
   "outputs": [
    {
     "data": {
      "text/plain": [
       "LogisticRegression()"
      ]
     },
     "execution_count": 8,
     "metadata": {},
     "output_type": "execute_result"
    }
   ],
   "source": [
    "model.fit(x_train,y_train)"
   ]
  },
  {
   "cell_type": "code",
   "execution_count": 9,
   "id": "0f37708e",
   "metadata": {},
   "outputs": [
    {
     "data": {
      "text/plain": [
       "array([1, 1, 0], dtype=int64)"
      ]
     },
     "execution_count": 9,
     "metadata": {},
     "output_type": "execute_result"
    }
   ],
   "source": [
    "#Ab to jyotish baba ready hai future predict krne k liye\n",
    "model.predict(x_test)"
   ]
  },
  {
   "cell_type": "code",
   "execution_count": 10,
   "id": "71274780",
   "metadata": {},
   "outputs": [],
   "source": [
    "# model.predict([[36]])"
   ]
  },
  {
   "cell_type": "code",
   "execution_count": 11,
   "id": "00a0adda",
   "metadata": {},
   "outputs": [
    {
     "data": {
      "text/plain": [
       "array([[0.10631187, 0.89368813],\n",
       "       [0.11887783, 0.88112217],\n",
       "       [0.89575646, 0.10424354]])"
      ]
     },
     "execution_count": 11,
     "metadata": {},
     "output_type": "execute_result"
    }
   ],
   "source": [
    "#for predict probability\n",
    "model.predict_proba(x_test)"
   ]
  },
  {
   "cell_type": "code",
   "execution_count": 12,
   "id": "8ddfa342",
   "metadata": {},
   "outputs": [
    {
     "data": {
      "text/plain": [
       "1.0"
      ]
     },
     "execution_count": 12,
     "metadata": {},
     "output_type": "execute_result"
    }
   ],
   "source": [
    "#To check the accuracy of the current model\n",
    "model.score(x_test,y_test)"
   ]
  },
  {
   "cell_type": "markdown",
   "id": "14d2e095",
   "metadata": {},
   "source": [
    "# Multiclass Classification"
   ]
  },
  {
   "cell_type": "code",
   "execution_count": 13,
   "id": "c4646981",
   "metadata": {},
   "outputs": [],
   "source": [
    "#We will take an example of Identify hand written digits recognition"
   ]
  },
  {
   "cell_type": "code",
   "execution_count": 14,
   "id": "b0fda809",
   "metadata": {},
   "outputs": [],
   "source": [
    "#matplotlib is a magic command which performs the necessary behind-the-scenes setup for IPython to work correctly hand-in-hand with matplotlib\n",
    "%matplotlib inline \n",
    "import matplotlib.pyplot as plt\n",
    "\n",
    "from sklearn.datasets import load_digits#import the dataset from sklearn\n",
    "digits=load_digits()"
   ]
  },
  {
   "cell_type": "code",
   "execution_count": 15,
   "id": "131c70e2",
   "metadata": {},
   "outputs": [
    {
     "data": {
      "text/plain": [
       "dict_keys(['data', 'target', 'frame', 'feature_names', 'target_names', 'images', 'DESCR'])"
      ]
     },
     "execution_count": 15,
     "metadata": {},
     "output_type": "execute_result"
    }
   ],
   "source": [
    "#Data are stored in the form of dictionary \n",
    "digits.keys()#to check unique keys"
   ]
  },
  {
   "cell_type": "code",
   "execution_count": 16,
   "id": "1954dbe9",
   "metadata": {},
   "outputs": [
    {
     "data": {
      "text/plain": [
       "array([[ 0.,  0.,  5., 13.,  9.,  1.,  0.,  0.],\n",
       "       [ 0.,  0., 13., 15., 10., 15.,  5.,  0.],\n",
       "       [ 0.,  3., 15.,  2.,  0., 11.,  8.,  0.],\n",
       "       [ 0.,  4., 12.,  0.,  0.,  8.,  8.,  0.],\n",
       "       [ 0.,  5.,  8.,  0.,  0.,  9.,  8.,  0.],\n",
       "       [ 0.,  4., 11.,  0.,  1., 12.,  7.,  0.],\n",
       "       [ 0.,  2., 14.,  5., 10., 12.,  0.,  0.],\n",
       "       [ 0.,  0.,  6., 13., 10.,  0.,  0.,  0.]])"
      ]
     },
     "execution_count": 16,
     "metadata": {},
     "output_type": "execute_result"
    }
   ],
   "source": [
    "digits.images#8x8 2-d array\n",
    "digits.images[0]#this is the image form of '0' we can see image in following"
   ]
  },
  {
   "cell_type": "code",
   "execution_count": 17,
   "id": "22e1b925",
   "metadata": {},
   "outputs": [
    {
     "data": {
      "text/plain": [
       "<matplotlib.image.AxesImage at 0x2b8a0e0c370>"
      ]
     },
     "execution_count": 17,
     "metadata": {},
     "output_type": "execute_result"
    },
    {
     "data": {
      "image/png": "[encoded data removed]",
      "text/plain": [
       "<Figure size 288x288 with 1 Axes>"
      ]
     },
     "metadata": {
      "needs_background": "light"
     },
     "output_type": "display_data"
    }
   ],
   "source": [
    "plt.matshow(digits.images[0])#image of '0' digit using matshow "
   ]
  },
  {
   "cell_type": "code",
   "execution_count": 18,
   "id": "0bf1f1c5",
   "metadata": {},
   "outputs": [
    {
     "data": {
      "text/plain": [
       "<matplotlib.image.AxesImage at 0x2b8a11ca080>"
      ]
     },
     "execution_count": 18,
     "metadata": {},
     "output_type": "execute_result"
    },
    {
     "data": {
      "text/plain": [
       "<Figure size 432x288 with 0 Axes>"
      ]
     },
     "metadata": {},
     "output_type": "display_data"
    },
    {
     "data": {
      "image/png": "[encoded data removed]",
      "text/plain": [
       "<Figure size 288x288 with 1 Axes>"
      ]
     },
     "metadata": {
      "needs_background": "light"
     },
     "output_type": "display_data"
    }
   ],
   "source": [
    "plt.gray()#to see the graph  in gray color\n",
    "plt.matshow(digits.images[0])"
   ]
  },
  {
   "cell_type": "code",
   "execution_count": 19,
   "id": "5e38d5cf",
   "metadata": {},
   "outputs": [
    {
     "data": {
      "image/png": "[encoded data removed]",
      "text/plain": [
       "<Figure size 288x288 with 1 Axes>"
      ]
     },
     "metadata": {
      "needs_background": "light"
     },
     "output_type": "display_data"
    },
    {
     "data": {
      "image/png": "[encoded data removed]",
      "text/plain": [
       "<Figure size 288x288 with 1 Axes>"
      ]
     },
     "metadata": {
      "needs_background": "light"
     },
     "output_type": "display_data"
    },
    {
     "data": {
      "image/png": "[encoded data removed]",
      "text/plain": [
       "<Figure size 288x288 with 1 Axes>"
      ]
     },
     "metadata": {
      "needs_background": "light"
     },
     "output_type": "display_data"
    },
    {
     "data": {
      "image/png": "[encoded data removed]",
      "text/plain": [
       "<Figure size 288x288 with 1 Axes>"
      ]
     },
     "metadata": {
      "needs_background": "light"
     },
     "output_type": "display_data"
    },
    {
     "data": {
      "image/png": "[encoded data removed]",
      "text/plain": [
       "<Figure size 288x288 with 1 Axes>"
      ]
     },
     "metadata": {
      "needs_background": "light"
     },
     "output_type": "display_data"
    }
   ],
   "source": [
    "# To see first 5 images\n",
    "for i in range(5):\n",
    "    plt.matshow(digits.images[i])"
   ]
  },
  {
   "cell_type": "code",
   "execution_count": 20,
   "id": "961d3b08",
   "metadata": {},
   "outputs": [
    {
     "data": {
      "text/plain": [
       "array([0, 1, 2, 3, 4])"
      ]
     },
     "execution_count": 20,
     "metadata": {},
     "output_type": "execute_result"
    }
   ],
   "source": [
    "#there are 10 target classes\n",
    "digits.target[:5]"
   ]
  },
  {
   "cell_type": "code",
   "execution_count": 21,
   "id": "f099f205",
   "metadata": {},
   "outputs": [],
   "source": [
    "#import the LR model from sklearn.linear_model and create the object of logistic regression class\n",
    "from sklearn.linear_model import LogisticRegression\n",
    "model1=LogisticRegression()"
   ]
  },
  {
   "cell_type": "code",
   "execution_count": 22,
   "id": "c49050df",
   "metadata": {},
   "outputs": [],
   "source": [
    "#split the dataframe into trainning set and testset (80:20) using train_test_split method\n",
    "from sklearn.model_selection import train_test_split\n",
    "x_train,x_test ,y_train, y_test =train_test_split(digits.data, digits.target,test_size=0.2)"
   ]
  },
  {
   "cell_type": "code",
   "execution_count": 23,
   "id": "5d417879",
   "metadata": {},
   "outputs": [
    {
     "data": {
      "text/plain": [
       "1797"
      ]
     },
     "execution_count": 23,
     "metadata": {},
     "output_type": "execute_result"
    }
   ],
   "source": [
    "#Total Samples\n",
    "len(digits.data)"
   ]
  },
  {
   "cell_type": "code",
   "execution_count": 24,
   "id": "8457885b",
   "metadata": {},
   "outputs": [
    {
     "data": {
      "text/plain": [
       "360"
      ]
     },
     "execution_count": 24,
     "metadata": {},
     "output_type": "execute_result"
    }
   ],
   "source": [
    "#Test data\n",
    "len(x_test)"
   ]
  },
  {
   "cell_type": "code",
   "execution_count": 25,
   "id": "592167d2",
   "metadata": {},
   "outputs": [
    {
     "data": {
      "text/plain": [
       "1437"
      ]
     },
     "execution_count": 25,
     "metadata": {},
     "output_type": "execute_result"
    }
   ],
   "source": [
    "#trained data\n",
    "len(x_train)"
   ]
  },
  {
   "cell_type": "code",
   "execution_count": 26,
   "id": "61a608e7",
   "metadata": {},
   "outputs": [],
   "source": [
    "#fitting is equal to training. Then, after it is trained, the model can be used to make predictions, usually with a .predict() method call. (X) and for supervised models it also accepts an argument for labels (i.e. target data y ). "
   ]
  },
  {
   "cell_type": "code",
   "execution_count": 27,
   "id": "e159eeab",
   "metadata": {},
   "outputs": [
    {
     "name": "stderr",
     "output_type": "stream",
     "text": [
      "C:\\Users\\mukes\\AppData\\Local\\Programs\\Python\\Python310\\lib\\site-packages\\sklearn\\linear_model\\_logistic.py:814: ConvergenceWarning: lbfgs failed to converge (status=1):\n",
      "STOP: TOTAL NO. of ITERATIONS REACHED LIMIT.\n",
      "\n",
      "Increase the number of iterations (max_iter) or scale the data as shown in:\n",
      "    https://scikit-learn.org/stable/modules/preprocessing.html\n",
      "Please also refer to the documentation for alternative solver options:\n",
      "    https://scikit-learn.org/stable/modules/linear_model.html#logistic-regression\n",
      "  n_iter_i = _check_optimize_result(\n"
     ]
    },
    {
     "data": {
      "text/plain": [
       "LogisticRegression()"
      ]
     },
     "execution_count": 27,
     "metadata": {},
     "output_type": "execute_result"
    }
   ],
   "source": [
    "#estimates the best representative function for the the data point\n",
    "model1.fit(x_train,y_train)"
   ]
  },
  {
   "cell_type": "code",
   "execution_count": 28,
   "id": "4d5693d5",
   "metadata": {},
   "outputs": [
    {
     "data": {
      "text/plain": [
       "array([7, 7, 6, 7, 2, 6, 9, 1, 6, 3, 9, 5, 8, 0, 8, 0, 4, 3, 0, 8, 1, 8,\n",
       "       2, 5, 7, 9, 6, 3, 4, 5, 4, 7, 4, 9, 4, 6, 7, 4, 1, 4, 4, 5, 8, 6,\n",
       "       6, 2, 0, 6, 6, 8, 6, 0, 6, 5, 0, 1, 6, 7, 4, 1, 7, 8, 9, 9, 7, 9,\n",
       "       9, 2, 5, 1, 5, 4, 9, 5, 4, 7, 4, 1, 8, 1, 7, 5, 2, 2, 9, 4, 7, 0,\n",
       "       7, 6, 3, 7, 0, 8, 9, 5, 6, 8, 3, 1, 8, 1, 1, 4, 9, 5, 4, 2, 2, 0,\n",
       "       2, 9, 2, 0, 6, 5, 2, 5, 9, 7, 8, 2, 3, 7, 0, 1, 4, 5, 7, 4, 2, 5,\n",
       "       3, 2, 6, 8, 0, 5, 0, 7, 1, 6, 8, 1, 2, 9, 5, 6, 2, 4, 0, 2, 7, 7,\n",
       "       5, 6, 6, 7, 4, 3, 6, 6, 9, 3, 4, 5, 6, 1, 7, 5, 5, 5, 8, 5, 3, 1,\n",
       "       4, 0, 7, 1, 5, 6, 4, 0, 1, 7, 0, 3, 0, 1, 1, 2, 5, 2, 4, 6, 2, 5,\n",
       "       1, 9, 5, 9, 5, 6, 7, 9, 4, 0, 8, 8, 3, 3, 1, 8, 2, 1, 8, 2, 5, 3,\n",
       "       4, 0, 2, 1, 8, 7, 0, 8, 2, 7, 7, 3, 2, 9, 9, 3, 6, 3, 8, 2, 1, 2,\n",
       "       1, 5, 9, 0, 5, 0, 4, 9, 1, 6, 3, 5, 9, 4, 3, 0, 3, 2, 9, 9, 7, 5,\n",
       "       2, 2, 2, 8, 9, 2, 7, 5, 6, 5, 6, 3, 6, 6, 4, 3, 2, 1, 5, 6, 4, 2,\n",
       "       9, 4, 6, 9, 6, 3, 6, 6, 6, 8, 7, 4, 2, 3, 9, 8, 7, 4, 5, 0, 0, 7,\n",
       "       3, 4, 1, 3, 3, 5, 3, 9, 5, 2, 6, 9, 3, 8, 2, 4, 9, 9, 5, 1, 7, 4,\n",
       "       0, 3, 9, 2, 2, 6, 3, 2, 1, 2, 5, 5, 5, 2, 0, 9, 3, 7, 3, 4, 0, 8,\n",
       "       6, 8, 2, 8, 9, 4, 7, 4])"
      ]
     },
     "execution_count": 28,
     "metadata": {},
     "output_type": "execute_result"
    }
   ],
   "source": [
    "model1.predict(x_test)#Predicted value , ye to test value se similar hai means hamara model shi se trained hua hai"
   ]
  },
  {
   "cell_type": "code",
   "execution_count": 29,
   "id": "1f552380",
   "metadata": {},
   "outputs": [
    {
     "data": {
      "text/plain": [
       "array([7, 7, 6, 7, 2, 6, 9, 1, 6, 3, 9, 5, 8, 0, 8, 0, 4, 3, 0, 8, 1, 8,\n",
       "       2, 5, 7, 9, 6, 3, 4, 5, 4, 7, 4, 9, 4, 6, 7, 4, 1, 4, 4, 5, 8, 6,\n",
       "       6, 2, 0, 5, 6, 8, 6, 0, 6, 5, 0, 1, 6, 7, 4, 1, 7, 8, 9, 9, 7, 9,\n",
       "       9, 2, 5, 1, 5, 4, 9, 5, 4, 7, 4, 1, 8, 1, 7, 5, 2, 2, 9, 4, 7, 0,\n",
       "       7, 6, 3, 7, 0, 9, 9, 5, 6, 8, 3, 1, 8, 1, 1, 4, 5, 5, 4, 2, 2, 0,\n",
       "       2, 9, 5, 0, 6, 5, 2, 5, 9, 7, 8, 2, 3, 7, 0, 4, 4, 5, 7, 4, 2, 5,\n",
       "       3, 2, 6, 8, 0, 5, 0, 7, 1, 6, 8, 1, 2, 9, 5, 6, 8, 4, 0, 2, 7, 7,\n",
       "       5, 6, 6, 7, 4, 3, 6, 6, 9, 3, 4, 5, 6, 1, 7, 5, 5, 5, 8, 5, 3, 1,\n",
       "       4, 0, 7, 1, 5, 6, 4, 0, 1, 7, 0, 3, 0, 1, 1, 2, 5, 2, 4, 6, 2, 5,\n",
       "       1, 9, 5, 9, 5, 6, 7, 8, 4, 0, 8, 8, 3, 3, 1, 8, 2, 1, 8, 2, 5, 3,\n",
       "       4, 0, 2, 1, 8, 7, 0, 8, 3, 7, 7, 3, 2, 9, 9, 3, 6, 3, 8, 2, 1, 2,\n",
       "       1, 5, 7, 0, 5, 0, 4, 9, 1, 6, 3, 5, 9, 5, 9, 0, 3, 2, 9, 9, 7, 5,\n",
       "       2, 2, 2, 8, 9, 2, 7, 5, 6, 5, 6, 3, 6, 6, 4, 3, 2, 1, 5, 6, 4, 2,\n",
       "       9, 4, 6, 9, 6, 3, 6, 6, 6, 8, 7, 4, 2, 3, 9, 8, 7, 4, 9, 0, 0, 7,\n",
       "       3, 4, 1, 3, 3, 5, 3, 9, 5, 2, 6, 9, 3, 8, 2, 4, 9, 9, 3, 1, 7, 4,\n",
       "       0, 3, 9, 2, 2, 6, 3, 2, 1, 2, 5, 5, 5, 2, 0, 9, 3, 7, 3, 4, 0, 8,\n",
       "       6, 9, 2, 8, 9, 4, 7, 4])"
      ]
     },
     "execution_count": 29,
     "metadata": {},
     "output_type": "execute_result"
    }
   ],
   "source": [
    "y_test#ye hamara tesing data hai aur upr wala predicted data hai jo ki lgbhag similar hi hai"
   ]
  },
  {
   "cell_type": "code",
   "execution_count": 30,
   "id": "895c9d26",
   "metadata": {},
   "outputs": [
    {
     "data": {
      "text/plain": [
       "0.9611111111111111"
      ]
     },
     "execution_count": 30,
     "metadata": {},
     "output_type": "execute_result"
    }
   ],
   "source": [
    "#Calculate the accuracy score\n",
    "model1.score(x_test,y_test)"
   ]
  },
  {
   "cell_type": "code",
   "execution_count": 32,
   "id": "4d7d0ef6",
   "metadata": {},
   "outputs": [],
   "source": [
    "#Store the predicted data in a variable\n",
    "y_predicted=model1.predict(x_test)"
   ]
  },
  {
   "cell_type": "code",
   "execution_count": 33,
   "id": "ca136a5b",
   "metadata": {},
   "outputs": [
    {
     "data": {
      "text/plain": [
       "array([[29,  0,  0,  0,  0,  0,  0,  0,  0,  0],\n",
       "       [ 0, 30,  0,  0,  0,  0,  0,  0,  0,  0],\n",
       "       [ 0,  0, 40,  0,  0,  0,  0,  0,  0,  0],\n",
       "       [ 0,  0,  1, 32,  0,  1,  0,  0,  0,  0],\n",
       "       [ 0,  1,  0,  0, 37,  0,  0,  0,  0,  0],\n",
       "       [ 0,  0,  1,  0,  1, 41,  1,  0,  0,  1],\n",
       "       [ 0,  0,  0,  0,  0,  0, 40,  0,  0,  0],\n",
       "       [ 0,  0,  0,  0,  0,  0,  0, 36,  0,  1],\n",
       "       [ 0,  0,  1,  0,  0,  0,  0,  0, 27,  1],\n",
       "       [ 0,  0,  0,  1,  0,  1,  0,  0,  2, 34]], dtype=int64)"
      ]
     },
     "execution_count": 33,
     "metadata": {},
     "output_type": "execute_result"
    }
   ],
   "source": [
    "# Now we want to see  where our model is decreasing remaining accuracy ,we can see with the help of Confusion metrix\n",
    "from sklearn.metrics import confusion_matrix\n",
    "cm=confusion_matrix(y_test,y_predicted)\n",
    "cm\n",
    "    "
   ]
  },
  {
   "cell_type": "code",
   "execution_count": 39,
   "id": "65b18a66",
   "metadata": {},
   "outputs": [
    {
     "data": {
      "text/plain": [
       "Text(51.0, 0.5, 'Truth')"
      ]
     },
     "execution_count": 39,
     "metadata": {},
     "output_type": "execute_result"
    },
    {
     "data": {
      "image/png": "[encoded data removed]",
      "text/plain": [
       "<Figure size 576x432 with 2 Axes>"
      ]
     },
     "metadata": {
      "needs_background": "light"
     },
     "output_type": "display_data"
    }
   ],
   "source": [
    "# Matrix ko achhe se dekhne ke liye\n",
    "import seaborn as sn\n",
    "plt.figure(figsize=(8,6))\n",
    "sn.heatmap(cm, annot=True)\n",
    "plt.xlabel(\"Predicted\")\n",
    "plt.ylabel(\"Truth\")\n",
    "#We can easily see in below graph what is the Truth Value(x_test) and what is our model is predicted"
   ]
  }
 ],
 "metadata": {
  "kernelspec": {
   "display_name": "Python 3 (ipykernel)",
   "language": "python",
   "name": "python3"
  },
  "language_info": {
   "codemirror_mode": {
    "name": "ipython",
    "version": 3
   },
   "file_extension": ".py",
   "mimetype": "text/x-python",
   "name": "python",
   "nbconvert_exporter": "python",
   "pygments_lexer": "ipython3",
   "version": "3.10.0"
  }
 },
 "nbformat": 4,
 "nbformat_minor": 5
}
